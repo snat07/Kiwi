{
 "cells": [
  {
   "cell_type": "code",
   "execution_count": 4,
   "metadata": {},
   "outputs": [
    {
     "ename": "ModuleNotFoundError",
     "evalue": "No module named 'requests_html'",
     "output_type": "error",
     "traceback": [
      "\u001b[0;31m---------------------------------------------------------------------------\u001b[0m",
      "\u001b[0;31mModuleNotFoundError\u001b[0m                       Traceback (most recent call last)",
      "\u001b[0;32m<ipython-input-4-2a90d5707cd6>\u001b[0m in \u001b[0;36m<module>\u001b[0;34m\u001b[0m\n\u001b[1;32m      1\u001b[0m \u001b[0;31m# %load connections.py\u001b[0m\u001b[0;34m\u001b[0m\u001b[0;34m\u001b[0m\u001b[0;34m\u001b[0m\u001b[0m\n\u001b[0;32m----> 2\u001b[0;31m \u001b[0;32mfrom\u001b[0m \u001b[0mrequests_html\u001b[0m \u001b[0;32mimport\u001b[0m \u001b[0mHTMLSession\u001b[0m\u001b[0;34m\u001b[0m\u001b[0;34m\u001b[0m\u001b[0m\n\u001b[0m\u001b[1;32m      3\u001b[0m \u001b[0;32mimport\u001b[0m \u001b[0mrequests\u001b[0m\u001b[0;34m\u001b[0m\u001b[0;34m\u001b[0m\u001b[0m\n\u001b[1;32m      4\u001b[0m \u001b[0;34m\u001b[0m\u001b[0m\n\u001b[1;32m      5\u001b[0m \u001b[0;32mclass\u001b[0m \u001b[0mconnections\u001b[0m\u001b[0;34m(\u001b[0m\u001b[0;34m)\u001b[0m\u001b[0;34m:\u001b[0m\u001b[0;34m\u001b[0m\u001b[0;34m\u001b[0m\u001b[0m\n",
      "\u001b[0;31mModuleNotFoundError\u001b[0m: No module named 'requests_html'"
     ]
    }
   ],
   "source": [
    "# %load connections.py\n",
    "from requests_html import HTMLSession\n",
    "import requests\n",
    "\n",
    "class connections():\n",
    "\n",
    "    def __init__(self):\n",
    "        self.get_cities()\n",
    "\n",
    "    def get_data(self, source, destination, date_departure):\n",
    "\n",
    "        source_id = self.find_city_id(source)\n",
    "        destination_id = self.find_city_id(destination)\n",
    "        if source_id == -1 or destination_id == -1:\n",
    "            raise ValueError(\"Incorrect city\")\n",
    "\n",
    "        session = HTMLSession()\n",
    "        session.get('https://global.flixbus.com/', method='GET')\n",
    "\n",
    "        session.get(f'https://shop.global.flixbus.com/search?departureCity={source_id}&arrivalCity={destination_id}rideDate={date_departure}')\n",
    "\n",
    "\n",
    "        \n",
    "\n",
    "\n",
    "    def get_cities(self):\n",
    "        r = requests.get('https://d11mb9zho2u7hy.cloudfront.net/api/v1/cities?locale=en')\n",
    "        self.cities = r.json()['cities']\n",
    "        print(self.cities)\n",
    "    \n",
    "    def find_city_id(self, city):\n",
    "        city_id = -1\n",
    "        for key, value in self.cities.iteritems():\n",
    "            if value['name'] == city:\n",
    "                city_id = key\n",
    "                break\n",
    "        return city_id\n",
    "        \n",
    "\n",
    "if __name__ == \"__main__\":\n",
    "    connections = connections()\n"
   ]
  },
  {
   "cell_type": "code",
   "execution_count": null,
   "metadata": {},
   "outputs": [],
   "source": []
  }
 ],
 "metadata": {
  "kernelspec": {
   "display_name": "Python 3",
   "language": "python",
   "name": "python3"
  },
  "language_info": {
   "codemirror_mode": {
    "name": "ipython",
    "version": 3
   },
   "file_extension": ".py",
   "mimetype": "text/x-python",
   "name": "python",
   "nbconvert_exporter": "python",
   "pygments_lexer": "ipython3",
   "version": "3.7.5"
  }
 },
 "nbformat": 4,
 "nbformat_minor": 2
}
